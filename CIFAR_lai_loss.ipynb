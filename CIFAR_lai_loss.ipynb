{
 "cells": [
  {
   "cell_type": "code",
   "execution_count": 1,
   "id": "ee5429a4",
   "metadata": {},
   "outputs": [],
   "source": [
    "import os\n",
    "os.environ['PYTORCH_CUDA_ALLOC_CONF'] = \"\""
   ]
  },
  {
   "cell_type": "code",
   "execution_count": 1,
   "id": "7949a536",
   "metadata": {},
   "outputs": [
    {
     "name": "stdout",
     "output_type": "stream",
     "text": [
      "2025-04-16 10:28:49,476 - Device <cpu> is selected\n",
      "2025-04-16 10:28:50,109 - PyTorch version 2.3.1 available.\n"
     ]
    }
   ],
   "source": [
    "from fedcore.tools.example_utils import get_scenario_for_api\n",
    "from fedcore.api.main import FedCore\n",
    "from fedcore.api.utils.checkers_collection import ApiConfigCheck\n",
    "from fedcore.data.dataloader import load_data\n",
    "from fedcore.api.utils.evaluation import evaluate_original_model, evaluate_optimised_model\n",
    "from fedcore.repository.config_repository import DEFAULT_CLF_API_CONFIG\n",
    "from torchvision.models import resnet18, ResNet18_Weights\n",
    "\n",
    "from fedcore.api.config_factory import ConfigFactory\n",
    "from fedcore.api.api_configs import (\n",
    "    APIConfigTemplate, DeviceConfigTemplate, AutoMLConfigTemplate,\n",
    "    LearningConfigTemplate, NeuralModelConfigTemplate, ComputeConfigTemplate, FedotConfigTemplate,\n",
    "    LowRankTemplate)\n",
    "from fedcore.architecture.dataset.api_loader import ApiLoader\n",
    "\n",
    "from fedcore.losses.regularization_losses import LaiMSE"
   ]
  },
  {
   "cell_type": "code",
   "execution_count": 2,
   "id": "f430a39a",
   "metadata": {},
   "outputs": [],
   "source": [
    "initial_assumption = resnet18(ResNet18_Weights)"
   ]
  },
  {
   "cell_type": "code",
   "execution_count": null,
   "id": "050f46f0",
   "metadata": {},
   "outputs": [
    {
     "ename": "TypeError",
     "evalue": "`Passed `LearningConfig(learning_strategy='from_scratch', peft_strategy='low_rank', criterion='cross_entropy', peft_strategy_params=LowRank(log_each=None, eval_each=None, save_each=None, epochs=1, optimizer='adam', scheduler=None, criterion='cross_entropy', custom_learning_params={}, custom_criterions={}, model_architecture=ModelArchitectureConfig(input_dim=None, output_dim=None, depth=3, custom_model_params={}), non_adaptive_threshold=0.1, finetune_params=NeuralModelConfig(log_each=None, eval_each=None, save_each=None, epochs=15, optimizer='adam', scheduler=None, criterion='cross_entropy', custom_learning_params={}, custom_criterions={}, model_architecture=ModelArchitectureConfig(input_dim=None, output_dim=None, depth=3, custom_model_params={}))), learning_strategy_params=NeuralModelConfig(log_each=None, eval_each=None, save_each=None, epochs=15, optimizer='adam', scheduler=None, criterion='cross_entropy', custom_learning_params={}, custom_criterions={}, model_architecture=ModelArchitectureConfig(input_dim=None, output_dim=None, depth=3, custom_model_params={})))` at config APIConfig. Expected: <class 'fedcore.api.api_configs.AutoMLConfigTemplate'>",
     "output_type": "error",
     "traceback": [
      "\u001b[1;31m---------------------------------------------------------------------------\u001b[0m",
      "\u001b[1;31mTypeError\u001b[0m                                 Traceback (most recent call last)",
      "Cell \u001b[1;32mIn[9], line 17\u001b[0m\n\u001b[0;32m      1\u001b[0m APIConfig \u001b[38;5;241m=\u001b[39m ConfigFactory\u001b[38;5;241m.\u001b[39mfrom_template(\n\u001b[0;32m      2\u001b[0m     APIConfigTemplate(\n\u001b[0;32m      3\u001b[0m         \u001b[38;5;28;01mNone\u001b[39;00m,\n\u001b[1;32m   (...)\u001b[0m\n\u001b[0;32m     13\u001b[0m     )\n\u001b[0;32m     14\u001b[0m )\n\u001b[1;32m---> 17\u001b[0m api_config \u001b[38;5;241m=\u001b[39m \u001b[43mAPIConfig\u001b[49m\u001b[43m(\u001b[49m\u001b[43m)\u001b[49m \u001b[38;5;66;03m# Here we can update with kwargs\u001b[39;00m\n",
      "File \u001b[1;32mc:\\Users\\user\\Desktop\\prog\\NSSLab\\FedCore\\fedcore\\api\\config_factory.py:33\u001b[0m, in \u001b[0;36mConfigFactory.from_template.<locals>.__init__\u001b[1;34m(self, parent, **kwargs)\u001b[0m\n\u001b[0;32m     31\u001b[0m value, need_check \u001b[38;5;241m=\u001b[39m ConfigFactory\u001b[38;5;241m.\u001b[39m_instantiate_default(\u001b[38;5;28mself\u001b[39m, name, key, value)\n\u001b[0;32m     32\u001b[0m \u001b[38;5;28;01mif\u001b[39;00m \u001b[38;5;129;01mnot\u001b[39;00m need_check:\n\u001b[1;32m---> 33\u001b[0m     \u001b[38;5;28;43mself\u001b[39;49m\u001b[38;5;241;43m.\u001b[39;49m\u001b[38;5;18;43m__class__\u001b[39;49m\u001b[38;5;241;43m.\u001b[39;49m\u001b[43mcheck\u001b[49m\u001b[43m(\u001b[49m\u001b[43mkey\u001b[49m\u001b[43m,\u001b[49m\u001b[43m \u001b[49m\u001b[43mvalue\u001b[49m\u001b[43m)\u001b[49m\n\u001b[0;32m     34\u001b[0m     \u001b[38;5;28msetattr\u001b[39m(\u001b[38;5;28mself\u001b[39m, key, value)\n\u001b[0;32m     35\u001b[0m \u001b[38;5;28;01melse\u001b[39;00m:\n",
      "File \u001b[1;32mc:\\Users\\user\\Desktop\\prog\\NSSLab\\FedCore\\fedcore\\api\\api_configs.py:138\u001b[0m, in \u001b[0;36mExtendableConfigTemplate.check\u001b[1;34m(cls, key, val)\u001b[0m\n\u001b[0;32m    136\u001b[0m \u001b[38;5;28;01mif\u001b[39;00m \u001b[38;5;129;01mnot\u001b[39;00m key \u001b[38;5;129;01min\u001b[39;00m \u001b[38;5;28mcls\u001b[39m\u001b[38;5;241m.\u001b[39m\u001b[38;5;18m__slots__\u001b[39m:\n\u001b[0;32m    137\u001b[0m     \u001b[38;5;28;01mreturn\u001b[39;00m\n\u001b[1;32m--> 138\u001b[0m \u001b[38;5;28;43msuper\u001b[39;49m\u001b[43m(\u001b[49m\u001b[43m)\u001b[49m\u001b[38;5;241;43m.\u001b[39;49m\u001b[43mcheck\u001b[49m\u001b[43m(\u001b[49m\u001b[43mkey\u001b[49m\u001b[43m,\u001b[49m\u001b[43m \u001b[49m\u001b[43mval\u001b[49m\u001b[43m)\u001b[49m\n",
      "File \u001b[1;32mc:\\Users\\user\\Desktop\\prog\\NSSLab\\FedCore\\fedcore\\api\\api_configs.py:76\u001b[0m, in \u001b[0;36mConfigTemplate.check\u001b[1;34m(cls, key, val)\u001b[0m\n\u001b[0;32m     73\u001b[0m             \u001b[38;5;28;01mraise\u001b[39;00m \u001b[38;5;167;01mValueError\u001b[39;00m(\n\u001b[0;32m     74\u001b[0m                 \u001b[38;5;124mf\u001b[39m\u001b[38;5;124m'\u001b[39m\u001b[38;5;124m`\u001b[39m\u001b[38;5;132;01m{\u001b[39;00mval\u001b[38;5;132;01m}\u001b[39;00m\u001b[38;5;124m` not supported as \u001b[39m\u001b[38;5;132;01m{\u001b[39;00mkey\u001b[38;5;132;01m}\u001b[39;00m\u001b[38;5;124m at config \u001b[39m\u001b[38;5;132;01m{\u001b[39;00m\u001b[38;5;28mcls\u001b[39m\u001b[38;5;241m.\u001b[39m\u001b[38;5;18m__name__\u001b[39m\u001b[38;5;132;01m}\u001b[39;00m\u001b[38;5;124m. Options: \u001b[39m\u001b[38;5;132;01m{\u001b[39;00mannotation\u001b[38;5;241m.\u001b[39m_member_names_\u001b[38;5;132;01m}\u001b[39;00m\u001b[38;5;124m'\u001b[39m)\n\u001b[0;32m     75\u001b[0m     \u001b[38;5;28;01melif\u001b[39;00m \u001b[38;5;129;01mnot\u001b[39;00m \u001b[38;5;28misinstance\u001b[39m(val, annotation):\n\u001b[1;32m---> 76\u001b[0m         \u001b[38;5;28;01mraise\u001b[39;00m \u001b[38;5;167;01mTypeError\u001b[39;00m(\u001b[38;5;124mf\u001b[39m\u001b[38;5;124m'\u001b[39m\u001b[38;5;124m`Passed `\u001b[39m\u001b[38;5;132;01m{\u001b[39;00mval\u001b[38;5;132;01m}\u001b[39;00m\u001b[38;5;124m` at config \u001b[39m\u001b[38;5;132;01m{\u001b[39;00m\u001b[38;5;28mcls\u001b[39m\u001b[38;5;241m.\u001b[39m\u001b[38;5;18m__name__\u001b[39m\u001b[38;5;132;01m}\u001b[39;00m\u001b[38;5;124m. Expected: \u001b[39m\u001b[38;5;132;01m{\u001b[39;00mannotation\u001b[38;5;132;01m}\u001b[39;00m\u001b[38;5;124m'\u001b[39m)\n\u001b[0;32m     77\u001b[0m \u001b[38;5;28;01mif\u001b[39;00m get_origin(annotation) \u001b[38;5;129;01mis\u001b[39;00m Literal \u001b[38;5;129;01mand\u001b[39;00m \u001b[38;5;129;01mnot\u001b[39;00m val \u001b[38;5;129;01min\u001b[39;00m get_args(annotation):\n\u001b[0;32m     78\u001b[0m     \u001b[38;5;28;01mraise\u001b[39;00m \u001b[38;5;167;01mValueError\u001b[39;00m(\u001b[38;5;124mf\u001b[39m\u001b[38;5;124m'\u001b[39m\u001b[38;5;124mPassed value `\u001b[39m\u001b[38;5;132;01m{\u001b[39;00mval\u001b[38;5;132;01m}\u001b[39;00m\u001b[38;5;124m` at config \u001b[39m\u001b[38;5;132;01m{\u001b[39;00m\u001b[38;5;28mcls\u001b[39m\u001b[38;5;241m.\u001b[39m\u001b[38;5;18m__name__\u001b[39m\u001b[38;5;132;01m}\u001b[39;00m\u001b[38;5;124m. Supported: \u001b[39m\u001b[38;5;132;01m{\u001b[39;00mget_args(annotation)\u001b[38;5;132;01m}\u001b[39;00m\u001b[38;5;124m'\u001b[39m)\n",
      "\u001b[1;31mTypeError\u001b[0m: `Passed `LearningConfig(learning_strategy='from_scratch', peft_strategy='low_rank', criterion='cross_entropy', peft_strategy_params=LowRank(log_each=None, eval_each=None, save_each=None, epochs=1, optimizer='adam', scheduler=None, criterion='cross_entropy', custom_learning_params={}, custom_criterions={}, model_architecture=ModelArchitectureConfig(input_dim=None, output_dim=None, depth=3, custom_model_params={}), non_adaptive_threshold=0.1, finetune_params=NeuralModelConfig(log_each=None, eval_each=None, save_each=None, epochs=15, optimizer='adam', scheduler=None, criterion='cross_entropy', custom_learning_params={}, custom_criterions={}, model_architecture=ModelArchitectureConfig(input_dim=None, output_dim=None, depth=3, custom_model_params={}))), learning_strategy_params=NeuralModelConfig(log_each=None, eval_each=None, save_each=None, epochs=15, optimizer='adam', scheduler=None, criterion='cross_entropy', custom_learning_params={}, custom_criterions={}, model_architecture=ModelArchitectureConfig(input_dim=None, output_dim=None, depth=3, custom_model_params={})))` at config APIConfig. Expected: <class 'fedcore.api.api_configs.AutoMLConfigTemplate'>"
     ]
    }
   ],
   "source": [
    "APIConfig = ConfigFactory.from_template(\n",
    "    APIConfigTemplate(\n",
    "        None,\n",
    "        AutoMLConfigTemplate(\n",
    "            FedotConfigTemplate(\n",
    "            problem='classification',\n",
    "            pop_size=1,\n",
    "            timeout=1,\n",
    "            initial_assumption=initial_assumption\n",
    "            )\n",
    "        ),\n",
    "        LearningConfigTemplate(\n",
    "            criterion='cross_entropy',\n",
    "            learning_strategy='from_scratch',\n",
    "            peft_strategy='low_rank',\n",
    "            peft_strategy_params=LowRankTemplate(\n",
    "                epochs=1,\n",
    "                non_adaptive_threshold=0.1\n",
    "            ),\n",
    "        )\n",
    "    )\n",
    ")\n",
    "\n",
    "\n",
    "api_config = APIConfig() # Here we can update with kwargs"
   ]
  },
  {
   "cell_type": "code",
   "execution_count": 4,
   "id": "df94b407",
   "metadata": {},
   "outputs": [],
   "source": [
    "# input_data = load_data(DATASET)\n",
    "al = ApiLoader('CIFAR10', {'split_ratio': [0.6, 0.4]})"
   ]
  },
  {
   "cell_type": "code",
   "execution_count": 5,
   "id": "d1e42640",
   "metadata": {},
   "outputs": [
    {
     "name": "stdout",
     "output_type": "stream",
     "text": [
      "Files already downloaded and verified\n"
     ]
    }
   ],
   "source": [
    "input_data = al._convert_to_fedcore(al._init_pretrain_dataset(al.source))"
   ]
  },
  {
   "cell_type": "code",
   "execution_count": null,
   "id": "282d2ffb",
   "metadata": {},
   "outputs": [
    {
     "ename": "TypeError",
     "evalue": "FedCore.__init__() missing 1 required positional argument: 'api_config'",
     "output_type": "error",
     "traceback": [
      "\u001b[1;31m---------------------------------------------------------------------------\u001b[0m",
      "\u001b[1;31mTypeError\u001b[0m                                 Traceback (most recent call last)",
      "Cell \u001b[1;32mIn[6], line 1\u001b[0m\n\u001b[1;32m----> 1\u001b[0m fedcore_compressor \u001b[38;5;241m=\u001b[39m FedCore(\u001b[38;5;241m*\u001b[39m\u001b[38;5;241m*\u001b[39mexperiment_setup)\n\u001b[0;32m      2\u001b[0m fedcore_compressor\u001b[38;5;241m.\u001b[39mfit_no_evo(input_data)\n",
      "\u001b[1;31mTypeError\u001b[0m: FedCore.__init__() missing 1 required positional argument: 'api_config'"
     ]
    }
   ],
   "source": [
    "fedcore_compressor = FedCore(api_config)\n",
    "fedcore_compressor.fit_no_evo(input_data)"
   ]
  },
  {
   "cell_type": "code",
   "execution_count": null,
   "id": "3e25cb13",
   "metadata": {},
   "outputs": [],
   "source": []
  }
 ],
 "metadata": {
  "kernelspec": {
   "display_name": ".venv",
   "language": "python",
   "name": "python3"
  },
  "language_info": {
   "codemirror_mode": {
    "name": "ipython",
    "version": 3
   },
   "file_extension": ".py",
   "mimetype": "text/x-python",
   "name": "python",
   "nbconvert_exporter": "python",
   "pygments_lexer": "ipython3",
   "version": "3.10.11"
  }
 },
 "nbformat": 4,
 "nbformat_minor": 5
}
